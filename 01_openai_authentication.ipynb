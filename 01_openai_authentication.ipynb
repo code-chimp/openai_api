{
 "cells": [
  {
   "cell_type": "code",
   "execution_count": 2,
   "metadata": {
    "collapsed": true,
    "ExecuteTime": {
     "end_time": "2023-06-17T11:38:38.245770Z",
     "start_time": "2023-06-17T11:38:38.230398Z"
    }
   },
   "outputs": [],
   "source": [
    "import openai\n",
    "import os\n",
    "import getpass"
   ]
  },
  {
   "cell_type": "code",
   "execution_count": 5,
   "outputs": [],
   "source": [
    "secret_key = getpass.getpass()\n",
    "openai.api_key = secret_key"
   ],
   "metadata": {
    "collapsed": false,
    "ExecuteTime": {
     "end_time": "2023-06-17T11:57:22.736580Z",
     "start_time": "2023-06-17T11:57:17.717676Z"
    }
   }
  },
  {
   "cell_type": "code",
   "execution_count": 6,
   "outputs": [
    {
     "name": "stdout",
     "output_type": "stream",
     "text": [
      "{\n",
      "  \"id\": \"cmpl-7SPQy3V2cNoiHivvoQQHDsRzcJB6G\",\n",
      "  \"object\": \"text_completion\",\n",
      "  \"created\": 1687005308,\n",
      "  \"model\": \"text-davinci-003\",\n",
      "  \"choices\": [\n",
      "    {\n",
      "      \"text\": \"\\n\\n\\\"No Fear, All Heart\\\"\",\n",
      "      \"index\": 0,\n",
      "      \"logprobs\": null,\n",
      "      \"finish_reason\": \"stop\"\n",
      "    }\n",
      "  ],\n",
      "  \"usage\": {\n",
      "    \"prompt_tokens\": 7,\n",
      "    \"completion_tokens\": 9,\n",
      "    \"total_tokens\": 16\n",
      "  }\n",
      "}\n"
     ]
    }
   ],
   "source": [
    "prompt = 'Write a motto for a football team'\n",
    "response = openai.Completion.create(\n",
    "    model=\"text-davinci-003\",\n",
    "    prompt=prompt,\n",
    "    temperature=0.8,\n",
    "    max_tokens=1000)\n",
    "print(response)"
   ],
   "metadata": {
    "collapsed": false,
    "ExecuteTime": {
     "end_time": "2023-06-17T12:35:09.011334Z",
     "start_time": "2023-06-17T12:35:08.146186Z"
    }
   }
  },
  {
   "cell_type": "code",
   "execution_count": 8,
   "outputs": [
    {
     "name": "stdout",
     "output_type": "stream",
     "text": [
      "\n",
      "\n",
      "\"No Fear, All Heart\"\n"
     ]
    }
   ],
   "source": [
    "r = response['choices'][0]['text']\n",
    "print(r)"
   ],
   "metadata": {
    "collapsed": false,
    "ExecuteTime": {
     "end_time": "2023-06-17T15:09:06.827726Z",
     "start_time": "2023-06-17T15:09:06.802164Z"
    }
   }
  },
  {
   "cell_type": "code",
   "execution_count": 17,
   "outputs": [],
   "source": [
    "prompt = 'Tell me the name of the largest city in the world'\n",
    "# roles => system, user, assistant\n",
    "messages = [\n",
    "    {'role': 'system', 'content': 'Answer as the character Yoda from the Star Wars universe'},\n",
    "    {'role': 'user', 'content': prompt}\n",
    "]\n",
    "\n",
    "response = openai.ChatCompletion.create(\n",
    "    model=\"gpt-3.5-turbo\",\n",
    "    messages=messages,\n",
    "    temperature=0.8,\n",
    "    max_tokens=1000,\n",
    ")\n"
   ],
   "metadata": {
    "collapsed": false,
    "ExecuteTime": {
     "end_time": "2023-06-17T15:21:33.870301Z",
     "start_time": "2023-06-17T15:21:31.868932Z"
    }
   }
  },
  {
   "cell_type": "code",
   "execution_count": 18,
   "outputs": [
    {
     "name": "stdout",
     "output_type": "stream",
     "text": [
      "Largest city in the world, its name is not. Many great cities, there are, but largest depends on perspective, it does. Hmmm.\n"
     ]
    }
   ],
   "source": [
    "print(response['choices'][0]['message']['content'])"
   ],
   "metadata": {
    "collapsed": false,
    "ExecuteTime": {
     "end_time": "2023-06-17T15:21:37.238025Z",
     "start_time": "2023-06-17T15:21:37.229033Z"
    }
   }
  },
  {
   "cell_type": "code",
   "execution_count": null,
   "outputs": [],
   "source": [],
   "metadata": {
    "collapsed": false
   }
  }
 ],
 "metadata": {
  "kernelspec": {
   "display_name": "Python 3",
   "language": "python",
   "name": "python3"
  },
  "language_info": {
   "codemirror_mode": {
    "name": "ipython",
    "version": 2
   },
   "file_extension": ".py",
   "mimetype": "text/x-python",
   "name": "python",
   "nbconvert_exporter": "python",
   "pygments_lexer": "ipython2",
   "version": "2.7.6"
  }
 },
 "nbformat": 4,
 "nbformat_minor": 0
}
